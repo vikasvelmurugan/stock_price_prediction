{
 "cells": [
  {
   "cell_type": "code",
   "execution_count": 1,
   "id": "bfeb0925",
   "metadata": {},
   "outputs": [],
   "source": [
    "## Loading the libraries\n",
    "\n",
    "import pandas as pd\n",
    "import numpy as np\n",
    "import matplotlib.pyplot as plt\n",
    "\n",
    "import yfinance as yf ## Yahoo finance data"
   ]
  },
  {
   "cell_type": "code",
   "execution_count": 3,
   "id": "26c39368",
   "metadata": {},
   "outputs": [
    {
     "name": "stdout",
     "output_type": "stream",
     "text": [
      "Collecting finta\n",
      "  Downloading finta-1.3-py3-none-any.whl (29 kB)\n",
      "Requirement already satisfied: numpy in c:\\users\\vikas velmurugan\\anaconda3\\lib\\site-packages (from finta) (1.23.5)\n",
      "Requirement already satisfied: pandas in c:\\users\\vikas velmurugan\\anaconda3\\lib\\site-packages (from finta) (1.4.4)\n",
      "Requirement already satisfied: pytz>=2020.1 in c:\\users\\vikas velmurugan\\anaconda3\\lib\\site-packages (from pandas->finta) (2022.7.1)\n",
      "Requirement already satisfied: python-dateutil>=2.8.1 in c:\\users\\vikas velmurugan\\anaconda3\\lib\\site-packages (from pandas->finta) (2.8.2)\n",
      "Requirement already satisfied: six>=1.5 in c:\\users\\vikas velmurugan\\anaconda3\\lib\\site-packages (from python-dateutil>=2.8.1->pandas->finta) (1.16.0)\n",
      "Installing collected packages: finta\n",
      "Successfully installed finta-1.3\n"
     ]
    }
   ],
   "source": [
    "!pip install finta"
   ]
  },
  {
   "cell_type": "code",
   "execution_count": 4,
   "id": "850f2000",
   "metadata": {},
   "outputs": [],
   "source": [
    "from finta import TA\n",
    "## for feature engineering purposes. It will tell us what features we can \n",
    "## extract from a particular stock"
   ]
  },
  {
   "cell_type": "markdown",
   "id": "05711e72",
   "metadata": {},
   "source": [
    "#### Loading data"
   ]
  },
  {
   "cell_type": "code",
   "execution_count": 5,
   "id": "e52edf4d",
   "metadata": {},
   "outputs": [
    {
     "data": {
      "text/html": [
       "<div>\n",
       "<style scoped>\n",
       "    .dataframe tbody tr th:only-of-type {\n",
       "        vertical-align: middle;\n",
       "    }\n",
       "\n",
       "    .dataframe tbody tr th {\n",
       "        vertical-align: top;\n",
       "    }\n",
       "\n",
       "    .dataframe thead th {\n",
       "        text-align: right;\n",
       "    }\n",
       "</style>\n",
       "<table border=\"1\" class=\"dataframe\">\n",
       "  <thead>\n",
       "    <tr style=\"text-align: right;\">\n",
       "      <th></th>\n",
       "      <th>Open</th>\n",
       "      <th>High</th>\n",
       "      <th>Low</th>\n",
       "      <th>Close</th>\n",
       "      <th>Volume</th>\n",
       "      <th>Dividends</th>\n",
       "      <th>Stock Splits</th>\n",
       "      <th>Capital Gains</th>\n",
       "    </tr>\n",
       "    <tr>\n",
       "      <th>Date</th>\n",
       "      <th></th>\n",
       "      <th></th>\n",
       "      <th></th>\n",
       "      <th></th>\n",
       "      <th></th>\n",
       "      <th></th>\n",
       "      <th></th>\n",
       "      <th></th>\n",
       "    </tr>\n",
       "  </thead>\n",
       "  <tbody>\n",
       "    <tr>\n",
       "      <th>2023-07-12 00:00:00-04:00</th>\n",
       "      <td>446.390015</td>\n",
       "      <td>447.480011</td>\n",
       "      <td>444.910004</td>\n",
       "      <td>446.019989</td>\n",
       "      <td>91924500</td>\n",
       "      <td>0.0</td>\n",
       "      <td>0.0</td>\n",
       "      <td>0.0</td>\n",
       "    </tr>\n",
       "    <tr>\n",
       "      <th>2023-07-13 00:00:00-04:00</th>\n",
       "      <td>447.899994</td>\n",
       "      <td>450.380005</td>\n",
       "      <td>447.450012</td>\n",
       "      <td>449.559998</td>\n",
       "      <td>72425200</td>\n",
       "      <td>0.0</td>\n",
       "      <td>0.0</td>\n",
       "      <td>0.0</td>\n",
       "    </tr>\n",
       "    <tr>\n",
       "      <th>2023-07-14 00:00:00-04:00</th>\n",
       "      <td>450.480011</td>\n",
       "      <td>451.359985</td>\n",
       "      <td>448.489990</td>\n",
       "      <td>449.279999</td>\n",
       "      <td>69761800</td>\n",
       "      <td>0.0</td>\n",
       "      <td>0.0</td>\n",
       "      <td>0.0</td>\n",
       "    </tr>\n",
       "    <tr>\n",
       "      <th>2023-07-17 00:00:00-04:00</th>\n",
       "      <td>449.130005</td>\n",
       "      <td>451.929993</td>\n",
       "      <td>449.079987</td>\n",
       "      <td>450.839996</td>\n",
       "      <td>52680200</td>\n",
       "      <td>0.0</td>\n",
       "      <td>0.0</td>\n",
       "      <td>0.0</td>\n",
       "    </tr>\n",
       "    <tr>\n",
       "      <th>2023-07-18 00:00:00-04:00</th>\n",
       "      <td>450.500000</td>\n",
       "      <td>454.859985</td>\n",
       "      <td>450.049988</td>\n",
       "      <td>454.190002</td>\n",
       "      <td>80744400</td>\n",
       "      <td>0.0</td>\n",
       "      <td>0.0</td>\n",
       "      <td>0.0</td>\n",
       "    </tr>\n",
       "  </tbody>\n",
       "</table>\n",
       "</div>"
      ],
      "text/plain": [
       "                                 Open        High         Low       Close  \\\n",
       "Date                                                                        \n",
       "2023-07-12 00:00:00-04:00  446.390015  447.480011  444.910004  446.019989   \n",
       "2023-07-13 00:00:00-04:00  447.899994  450.380005  447.450012  449.559998   \n",
       "2023-07-14 00:00:00-04:00  450.480011  451.359985  448.489990  449.279999   \n",
       "2023-07-17 00:00:00-04:00  449.130005  451.929993  449.079987  450.839996   \n",
       "2023-07-18 00:00:00-04:00  450.500000  454.859985  450.049988  454.190002   \n",
       "\n",
       "                             Volume  Dividends  Stock Splits  Capital Gains  \n",
       "Date                                                                         \n",
       "2023-07-12 00:00:00-04:00  91924500        0.0           0.0            0.0  \n",
       "2023-07-13 00:00:00-04:00  72425200        0.0           0.0            0.0  \n",
       "2023-07-14 00:00:00-04:00  69761800        0.0           0.0            0.0  \n",
       "2023-07-17 00:00:00-04:00  52680200        0.0           0.0            0.0  \n",
       "2023-07-18 00:00:00-04:00  80744400        0.0           0.0            0.0  "
      ]
     },
     "execution_count": 5,
     "metadata": {},
     "output_type": "execute_result"
    }
   ],
   "source": [
    "symbol=\"SPY\"\n",
    "obj=yf.Ticker(symbol)\n",
    "data=obj.history()\n",
    "data.head()"
   ]
  },
  {
   "cell_type": "markdown",
   "id": "c57ab9af",
   "metadata": {},
   "source": [
    "* open- what particular price that stock opened on that day\n",
    "* high- highest price of the stock on that particular day\n",
    "* low- lowest price of that particular stock on that day\n",
    "* close- price the stock closed on that particular day"
   ]
  },
  {
   "cell_type": "code",
   "execution_count": 6,
   "id": "0d17f655",
   "metadata": {},
   "outputs": [
    {
     "data": {
      "text/plain": [
       "(23, 8)"
      ]
     },
     "execution_count": 6,
     "metadata": {},
     "output_type": "execute_result"
    }
   ],
   "source": [
    "data.shape"
   ]
  },
  {
   "cell_type": "code",
   "execution_count": 7,
   "id": "c2c48c67",
   "metadata": {},
   "outputs": [],
   "source": [
    "import datetime"
   ]
  },
  {
   "cell_type": "code",
   "execution_count": 8,
   "id": "db4ab50a",
   "metadata": {},
   "outputs": [
    {
     "name": "stdout",
     "output_type": "stream",
     "text": [
      "Start date: 1982-07-20\n",
      "End date: 2023-08-14\n"
     ]
    }
   ],
   "source": [
    "## define the parameters\n",
    "symbol=\"SPY\"\n",
    "num_days=15000\n",
    "\n",
    "interval='1d' \n",
    "start_date=str(datetime.date.today()-datetime.timedelta(num_days))\n",
    "end_date=str(datetime.date.today())\n",
    "\n",
    "print(\"Start date:\", start_date)\n",
    "print(\"End date:\", end_date)"
   ]
  },
  {
   "cell_type": "code",
   "execution_count": 10,
   "id": "3e2f15b1",
   "metadata": {},
   "outputs": [
    {
     "data": {
      "text/html": [
       "<div>\n",
       "<style scoped>\n",
       "    .dataframe tbody tr th:only-of-type {\n",
       "        vertical-align: middle;\n",
       "    }\n",
       "\n",
       "    .dataframe tbody tr th {\n",
       "        vertical-align: top;\n",
       "    }\n",
       "\n",
       "    .dataframe thead th {\n",
       "        text-align: right;\n",
       "    }\n",
       "</style>\n",
       "<table border=\"1\" class=\"dataframe\">\n",
       "  <thead>\n",
       "    <tr style=\"text-align: right;\">\n",
       "      <th></th>\n",
       "      <th>Open</th>\n",
       "      <th>High</th>\n",
       "      <th>Low</th>\n",
       "      <th>Close</th>\n",
       "      <th>Volume</th>\n",
       "      <th>Dividends</th>\n",
       "      <th>Stock Splits</th>\n",
       "      <th>Capital Gains</th>\n",
       "    </tr>\n",
       "    <tr>\n",
       "      <th>Date</th>\n",
       "      <th></th>\n",
       "      <th></th>\n",
       "      <th></th>\n",
       "      <th></th>\n",
       "      <th></th>\n",
       "      <th></th>\n",
       "      <th></th>\n",
       "      <th></th>\n",
       "    </tr>\n",
       "  </thead>\n",
       "  <tbody>\n",
       "    <tr>\n",
       "      <th>1993-01-29 00:00:00-05:00</th>\n",
       "      <td>25.047175</td>\n",
       "      <td>25.047175</td>\n",
       "      <td>24.922562</td>\n",
       "      <td>25.029373</td>\n",
       "      <td>1003200</td>\n",
       "      <td>0.0</td>\n",
       "      <td>0.0</td>\n",
       "      <td>0.0</td>\n",
       "    </tr>\n",
       "    <tr>\n",
       "      <th>1993-02-01 00:00:00-05:00</th>\n",
       "      <td>25.047175</td>\n",
       "      <td>25.207392</td>\n",
       "      <td>25.047175</td>\n",
       "      <td>25.207392</td>\n",
       "      <td>480500</td>\n",
       "      <td>0.0</td>\n",
       "      <td>0.0</td>\n",
       "      <td>0.0</td>\n",
       "    </tr>\n",
       "    <tr>\n",
       "      <th>1993-02-02 00:00:00-05:00</th>\n",
       "      <td>25.189600</td>\n",
       "      <td>25.278609</td>\n",
       "      <td>25.136194</td>\n",
       "      <td>25.260807</td>\n",
       "      <td>201300</td>\n",
       "      <td>0.0</td>\n",
       "      <td>0.0</td>\n",
       "      <td>0.0</td>\n",
       "    </tr>\n",
       "    <tr>\n",
       "      <th>1993-02-03 00:00:00-05:00</th>\n",
       "      <td>25.296399</td>\n",
       "      <td>25.545624</td>\n",
       "      <td>25.278597</td>\n",
       "      <td>25.527822</td>\n",
       "      <td>529400</td>\n",
       "      <td>0.0</td>\n",
       "      <td>0.0</td>\n",
       "      <td>0.0</td>\n",
       "    </tr>\n",
       "    <tr>\n",
       "      <th>1993-02-04 00:00:00-05:00</th>\n",
       "      <td>25.616838</td>\n",
       "      <td>25.688045</td>\n",
       "      <td>25.332009</td>\n",
       "      <td>25.634640</td>\n",
       "      <td>531500</td>\n",
       "      <td>0.0</td>\n",
       "      <td>0.0</td>\n",
       "      <td>0.0</td>\n",
       "    </tr>\n",
       "  </tbody>\n",
       "</table>\n",
       "</div>"
      ],
      "text/plain": [
       "                                Open       High        Low      Close  \\\n",
       "Date                                                                    \n",
       "1993-01-29 00:00:00-05:00  25.047175  25.047175  24.922562  25.029373   \n",
       "1993-02-01 00:00:00-05:00  25.047175  25.207392  25.047175  25.207392   \n",
       "1993-02-02 00:00:00-05:00  25.189600  25.278609  25.136194  25.260807   \n",
       "1993-02-03 00:00:00-05:00  25.296399  25.545624  25.278597  25.527822   \n",
       "1993-02-04 00:00:00-05:00  25.616838  25.688045  25.332009  25.634640   \n",
       "\n",
       "                            Volume  Dividends  Stock Splits  Capital Gains  \n",
       "Date                                                                        \n",
       "1993-01-29 00:00:00-05:00  1003200        0.0           0.0            0.0  \n",
       "1993-02-01 00:00:00-05:00   480500        0.0           0.0            0.0  \n",
       "1993-02-02 00:00:00-05:00   201300        0.0           0.0            0.0  \n",
       "1993-02-03 00:00:00-05:00   529400        0.0           0.0            0.0  \n",
       "1993-02-04 00:00:00-05:00   531500        0.0           0.0            0.0  "
      ]
     },
     "execution_count": 10,
     "metadata": {},
     "output_type": "execute_result"
    }
   ],
   "source": [
    "data=obj.history(interval=interval, start=start_date, end=end_date)\n",
    "data.head()"
   ]
  },
  {
   "cell_type": "code",
   "execution_count": 12,
   "id": "039caefa",
   "metadata": {},
   "outputs": [
    {
     "data": {
      "text/plain": [
       "(7689, 8)"
      ]
     },
     "execution_count": 12,
     "metadata": {},
     "output_type": "execute_result"
    }
   ],
   "source": [
    "data.shape"
   ]
  },
  {
   "cell_type": "code",
   "execution_count": 13,
   "id": "42aa9254",
   "metadata": {},
   "outputs": [],
   "source": [
    "data.to_csv('stocks.csv',index='False')"
   ]
  },
  {
   "cell_type": "code",
   "execution_count": 71,
   "id": "8c1a85cf",
   "metadata": {},
   "outputs": [],
   "source": [
    "df=pd.read_csv('stocks.csv')"
   ]
  },
  {
   "cell_type": "code",
   "execution_count": 72,
   "id": "3247997a",
   "metadata": {},
   "outputs": [
    {
     "data": {
      "text/html": [
       "<div>\n",
       "<style scoped>\n",
       "    .dataframe tbody tr th:only-of-type {\n",
       "        vertical-align: middle;\n",
       "    }\n",
       "\n",
       "    .dataframe tbody tr th {\n",
       "        vertical-align: top;\n",
       "    }\n",
       "\n",
       "    .dataframe thead th {\n",
       "        text-align: right;\n",
       "    }\n",
       "</style>\n",
       "<table border=\"1\" class=\"dataframe\">\n",
       "  <thead>\n",
       "    <tr style=\"text-align: right;\">\n",
       "      <th></th>\n",
       "      <th>Date</th>\n",
       "      <th>Open</th>\n",
       "      <th>High</th>\n",
       "      <th>Low</th>\n",
       "      <th>Close</th>\n",
       "      <th>Volume</th>\n",
       "      <th>Dividends</th>\n",
       "      <th>Stock Splits</th>\n",
       "      <th>Capital Gains</th>\n",
       "    </tr>\n",
       "  </thead>\n",
       "  <tbody>\n",
       "    <tr>\n",
       "      <th>0</th>\n",
       "      <td>1993-01-29 00:00:00-05:00</td>\n",
       "      <td>25.047175</td>\n",
       "      <td>25.047175</td>\n",
       "      <td>24.922562</td>\n",
       "      <td>25.029373</td>\n",
       "      <td>1003200</td>\n",
       "      <td>0.0</td>\n",
       "      <td>0.0</td>\n",
       "      <td>0.0</td>\n",
       "    </tr>\n",
       "    <tr>\n",
       "      <th>1</th>\n",
       "      <td>1993-02-01 00:00:00-05:00</td>\n",
       "      <td>25.047175</td>\n",
       "      <td>25.207392</td>\n",
       "      <td>25.047175</td>\n",
       "      <td>25.207392</td>\n",
       "      <td>480500</td>\n",
       "      <td>0.0</td>\n",
       "      <td>0.0</td>\n",
       "      <td>0.0</td>\n",
       "    </tr>\n",
       "    <tr>\n",
       "      <th>2</th>\n",
       "      <td>1993-02-02 00:00:00-05:00</td>\n",
       "      <td>25.189600</td>\n",
       "      <td>25.278609</td>\n",
       "      <td>25.136194</td>\n",
       "      <td>25.260807</td>\n",
       "      <td>201300</td>\n",
       "      <td>0.0</td>\n",
       "      <td>0.0</td>\n",
       "      <td>0.0</td>\n",
       "    </tr>\n",
       "    <tr>\n",
       "      <th>3</th>\n",
       "      <td>1993-02-03 00:00:00-05:00</td>\n",
       "      <td>25.296399</td>\n",
       "      <td>25.545624</td>\n",
       "      <td>25.278597</td>\n",
       "      <td>25.527822</td>\n",
       "      <td>529400</td>\n",
       "      <td>0.0</td>\n",
       "      <td>0.0</td>\n",
       "      <td>0.0</td>\n",
       "    </tr>\n",
       "    <tr>\n",
       "      <th>4</th>\n",
       "      <td>1993-02-04 00:00:00-05:00</td>\n",
       "      <td>25.616838</td>\n",
       "      <td>25.688045</td>\n",
       "      <td>25.332009</td>\n",
       "      <td>25.634640</td>\n",
       "      <td>531500</td>\n",
       "      <td>0.0</td>\n",
       "      <td>0.0</td>\n",
       "      <td>0.0</td>\n",
       "    </tr>\n",
       "  </tbody>\n",
       "</table>\n",
       "</div>"
      ],
      "text/plain": [
       "                        Date       Open       High        Low      Close  \\\n",
       "0  1993-01-29 00:00:00-05:00  25.047175  25.047175  24.922562  25.029373   \n",
       "1  1993-02-01 00:00:00-05:00  25.047175  25.207392  25.047175  25.207392   \n",
       "2  1993-02-02 00:00:00-05:00  25.189600  25.278609  25.136194  25.260807   \n",
       "3  1993-02-03 00:00:00-05:00  25.296399  25.545624  25.278597  25.527822   \n",
       "4  1993-02-04 00:00:00-05:00  25.616838  25.688045  25.332009  25.634640   \n",
       "\n",
       "    Volume  Dividends  Stock Splits  Capital Gains  \n",
       "0  1003200        0.0           0.0            0.0  \n",
       "1   480500        0.0           0.0            0.0  \n",
       "2   201300        0.0           0.0            0.0  \n",
       "3   529400        0.0           0.0            0.0  \n",
       "4   531500        0.0           0.0            0.0  "
      ]
     },
     "execution_count": 72,
     "metadata": {},
     "output_type": "execute_result"
    }
   ],
   "source": [
    "df.head()"
   ]
  },
  {
   "cell_type": "code",
   "execution_count": 73,
   "id": "cf64c07c",
   "metadata": {},
   "outputs": [
    {
     "data": {
      "text/plain": [
       "(7689, 9)"
      ]
     },
     "execution_count": 73,
     "metadata": {},
     "output_type": "execute_result"
    }
   ],
   "source": [
    "df.shape"
   ]
  },
  {
   "cell_type": "code",
   "execution_count": 74,
   "id": "5e0584b2",
   "metadata": {},
   "outputs": [],
   "source": [
    "df=df.set_index(['Date'])"
   ]
  },
  {
   "cell_type": "code",
   "execution_count": 75,
   "id": "b8c81ddb",
   "metadata": {},
   "outputs": [
    {
     "data": {
      "text/html": [
       "<div>\n",
       "<style scoped>\n",
       "    .dataframe tbody tr th:only-of-type {\n",
       "        vertical-align: middle;\n",
       "    }\n",
       "\n",
       "    .dataframe tbody tr th {\n",
       "        vertical-align: top;\n",
       "    }\n",
       "\n",
       "    .dataframe thead th {\n",
       "        text-align: right;\n",
       "    }\n",
       "</style>\n",
       "<table border=\"1\" class=\"dataframe\">\n",
       "  <thead>\n",
       "    <tr style=\"text-align: right;\">\n",
       "      <th></th>\n",
       "      <th>Open</th>\n",
       "      <th>High</th>\n",
       "      <th>Low</th>\n",
       "      <th>Close</th>\n",
       "      <th>Volume</th>\n",
       "      <th>Dividends</th>\n",
       "      <th>Stock Splits</th>\n",
       "      <th>Capital Gains</th>\n",
       "    </tr>\n",
       "    <tr>\n",
       "      <th>Date</th>\n",
       "      <th></th>\n",
       "      <th></th>\n",
       "      <th></th>\n",
       "      <th></th>\n",
       "      <th></th>\n",
       "      <th></th>\n",
       "      <th></th>\n",
       "      <th></th>\n",
       "    </tr>\n",
       "  </thead>\n",
       "  <tbody>\n",
       "    <tr>\n",
       "      <th>1993-01-29 00:00:00-05:00</th>\n",
       "      <td>25.047175</td>\n",
       "      <td>25.047175</td>\n",
       "      <td>24.922562</td>\n",
       "      <td>25.029373</td>\n",
       "      <td>1003200</td>\n",
       "      <td>0.0</td>\n",
       "      <td>0.0</td>\n",
       "      <td>0.0</td>\n",
       "    </tr>\n",
       "    <tr>\n",
       "      <th>1993-02-01 00:00:00-05:00</th>\n",
       "      <td>25.047175</td>\n",
       "      <td>25.207392</td>\n",
       "      <td>25.047175</td>\n",
       "      <td>25.207392</td>\n",
       "      <td>480500</td>\n",
       "      <td>0.0</td>\n",
       "      <td>0.0</td>\n",
       "      <td>0.0</td>\n",
       "    </tr>\n",
       "    <tr>\n",
       "      <th>1993-02-02 00:00:00-05:00</th>\n",
       "      <td>25.189600</td>\n",
       "      <td>25.278609</td>\n",
       "      <td>25.136194</td>\n",
       "      <td>25.260807</td>\n",
       "      <td>201300</td>\n",
       "      <td>0.0</td>\n",
       "      <td>0.0</td>\n",
       "      <td>0.0</td>\n",
       "    </tr>\n",
       "    <tr>\n",
       "      <th>1993-02-03 00:00:00-05:00</th>\n",
       "      <td>25.296399</td>\n",
       "      <td>25.545624</td>\n",
       "      <td>25.278597</td>\n",
       "      <td>25.527822</td>\n",
       "      <td>529400</td>\n",
       "      <td>0.0</td>\n",
       "      <td>0.0</td>\n",
       "      <td>0.0</td>\n",
       "    </tr>\n",
       "    <tr>\n",
       "      <th>1993-02-04 00:00:00-05:00</th>\n",
       "      <td>25.616838</td>\n",
       "      <td>25.688045</td>\n",
       "      <td>25.332009</td>\n",
       "      <td>25.634640</td>\n",
       "      <td>531500</td>\n",
       "      <td>0.0</td>\n",
       "      <td>0.0</td>\n",
       "      <td>0.0</td>\n",
       "    </tr>\n",
       "  </tbody>\n",
       "</table>\n",
       "</div>"
      ],
      "text/plain": [
       "                                Open       High        Low      Close  \\\n",
       "Date                                                                    \n",
       "1993-01-29 00:00:00-05:00  25.047175  25.047175  24.922562  25.029373   \n",
       "1993-02-01 00:00:00-05:00  25.047175  25.207392  25.047175  25.207392   \n",
       "1993-02-02 00:00:00-05:00  25.189600  25.278609  25.136194  25.260807   \n",
       "1993-02-03 00:00:00-05:00  25.296399  25.545624  25.278597  25.527822   \n",
       "1993-02-04 00:00:00-05:00  25.616838  25.688045  25.332009  25.634640   \n",
       "\n",
       "                            Volume  Dividends  Stock Splits  Capital Gains  \n",
       "Date                                                                        \n",
       "1993-01-29 00:00:00-05:00  1003200        0.0           0.0            0.0  \n",
       "1993-02-01 00:00:00-05:00   480500        0.0           0.0            0.0  \n",
       "1993-02-02 00:00:00-05:00   201300        0.0           0.0            0.0  \n",
       "1993-02-03 00:00:00-05:00   529400        0.0           0.0            0.0  \n",
       "1993-02-04 00:00:00-05:00   531500        0.0           0.0            0.0  "
      ]
     },
     "execution_count": 75,
     "metadata": {},
     "output_type": "execute_result"
    }
   ],
   "source": [
    "df.head()"
   ]
  },
  {
   "cell_type": "code",
   "execution_count": 76,
   "id": "b909b812",
   "metadata": {},
   "outputs": [
    {
     "data": {
      "text/plain": [
       "Open      0\n",
       "High      0\n",
       "Low       0\n",
       "Close     0\n",
       "Volume    0\n",
       "ema50     0\n",
       "ema21     0\n",
       "ema15     0\n",
       "ema5      0\n",
       "dtype: int64"
      ]
     },
     "execution_count": 76,
     "metadata": {},
     "output_type": "execute_result"
    }
   ],
   "source": [
    "data.isnull().sum()"
   ]
  },
  {
   "cell_type": "code",
   "execution_count": 77,
   "id": "7aad6d67",
   "metadata": {},
   "outputs": [],
   "source": [
    "df.drop(columns=['Dividends','Stock Splits', 'Capital Gains'],axis=1,inplace=True)"
   ]
  },
  {
   "cell_type": "code",
   "execution_count": 78,
   "id": "ce08d493",
   "metadata": {},
   "outputs": [
    {
     "data": {
      "text/html": [
       "<div>\n",
       "<style scoped>\n",
       "    .dataframe tbody tr th:only-of-type {\n",
       "        vertical-align: middle;\n",
       "    }\n",
       "\n",
       "    .dataframe tbody tr th {\n",
       "        vertical-align: top;\n",
       "    }\n",
       "\n",
       "    .dataframe thead th {\n",
       "        text-align: right;\n",
       "    }\n",
       "</style>\n",
       "<table border=\"1\" class=\"dataframe\">\n",
       "  <thead>\n",
       "    <tr style=\"text-align: right;\">\n",
       "      <th></th>\n",
       "      <th>Open</th>\n",
       "      <th>High</th>\n",
       "      <th>Low</th>\n",
       "      <th>Close</th>\n",
       "      <th>Volume</th>\n",
       "    </tr>\n",
       "    <tr>\n",
       "      <th>Date</th>\n",
       "      <th></th>\n",
       "      <th></th>\n",
       "      <th></th>\n",
       "      <th></th>\n",
       "      <th></th>\n",
       "    </tr>\n",
       "  </thead>\n",
       "  <tbody>\n",
       "    <tr>\n",
       "      <th>1993-01-29 00:00:00-05:00</th>\n",
       "      <td>25.047175</td>\n",
       "      <td>25.047175</td>\n",
       "      <td>24.922562</td>\n",
       "      <td>25.029373</td>\n",
       "      <td>1003200</td>\n",
       "    </tr>\n",
       "    <tr>\n",
       "      <th>1993-02-01 00:00:00-05:00</th>\n",
       "      <td>25.047175</td>\n",
       "      <td>25.207392</td>\n",
       "      <td>25.047175</td>\n",
       "      <td>25.207392</td>\n",
       "      <td>480500</td>\n",
       "    </tr>\n",
       "    <tr>\n",
       "      <th>1993-02-02 00:00:00-05:00</th>\n",
       "      <td>25.189600</td>\n",
       "      <td>25.278609</td>\n",
       "      <td>25.136194</td>\n",
       "      <td>25.260807</td>\n",
       "      <td>201300</td>\n",
       "    </tr>\n",
       "    <tr>\n",
       "      <th>1993-02-03 00:00:00-05:00</th>\n",
       "      <td>25.296399</td>\n",
       "      <td>25.545624</td>\n",
       "      <td>25.278597</td>\n",
       "      <td>25.527822</td>\n",
       "      <td>529400</td>\n",
       "    </tr>\n",
       "    <tr>\n",
       "      <th>1993-02-04 00:00:00-05:00</th>\n",
       "      <td>25.616838</td>\n",
       "      <td>25.688045</td>\n",
       "      <td>25.332009</td>\n",
       "      <td>25.634640</td>\n",
       "      <td>531500</td>\n",
       "    </tr>\n",
       "  </tbody>\n",
       "</table>\n",
       "</div>"
      ],
      "text/plain": [
       "                                Open       High        Low      Close   Volume\n",
       "Date                                                                          \n",
       "1993-01-29 00:00:00-05:00  25.047175  25.047175  24.922562  25.029373  1003200\n",
       "1993-02-01 00:00:00-05:00  25.047175  25.207392  25.047175  25.207392   480500\n",
       "1993-02-02 00:00:00-05:00  25.189600  25.278609  25.136194  25.260807   201300\n",
       "1993-02-03 00:00:00-05:00  25.296399  25.545624  25.278597  25.527822   529400\n",
       "1993-02-04 00:00:00-05:00  25.616838  25.688045  25.332009  25.634640   531500"
      ]
     },
     "execution_count": 78,
     "metadata": {},
     "output_type": "execute_result"
    }
   ],
   "source": [
    "df.head()"
   ]
  },
  {
   "cell_type": "code",
   "execution_count": 79,
   "id": "4d75a495",
   "metadata": {},
   "outputs": [
    {
     "data": {
      "image/png": "[encoded data removed]",
      "text/plain": [
       "<Figure size 1200x600 with 1 Axes>"
      ]
     },
     "metadata": {},
     "output_type": "display_data"
    }
   ],
   "source": [
    "plt.figure(figsize= (12,6))\n",
    "tmp=data.iloc[-60:]\n",
    "tmp['Close'].plot()\n",
    "plt.show()"
   ]
  },
  {
   "cell_type": "markdown",
   "id": "5b8aee53",
   "metadata": {},
   "source": [
    "#### Exponential smoothing-> formula= alpha*y(t)+(1-alpha)*y(t-1)"
   ]
  },
  {
   "cell_type": "code",
   "execution_count": 80,
   "id": "82797dbb",
   "metadata": {},
   "outputs": [],
   "source": [
    "df=df.ewm(alpha=0.65).mean()\n",
    "## this means that 65% of data is influenced by today's date and 35% from\n",
    "## the previous date\n"
   ]
  },
  {
   "cell_type": "markdown",
   "id": "1283d0b3",
   "metadata": {},
   "source": [
    "* basically you're adding the weightage of previous values also to the current value. Must do when it comes to time series data.\n",
    "* my end goal is to decide whether to buy a particular stock on that particular day or no. For my judgement, i am giving 65% weightage to my current stock as well as 35% of previous stock price. "
   ]
  },
  {
   "cell_type": "code",
   "execution_count": 81,
   "id": "f2925266",
   "metadata": {},
   "outputs": [
    {
     "data": {
      "image/png": "[encoded data removed]",
      "text/plain": [
       "<Figure size 1200x600 with 1 Axes>"
      ]
     },
     "metadata": {},
     "output_type": "display_data"
    }
   ],
   "source": [
    "plt.figure(figsize= (12,6))\n",
    "tmp=df.iloc[-60:]\n",
    "tmp['Close'].plot()\n",
    "plt.xticks(rotation=30)\n",
    "plt.show()"
   ]
  },
  {
   "cell_type": "code",
   "execution_count": 82,
   "id": "1133ff9d",
   "metadata": {},
   "outputs": [
    {
     "data": {
      "text/html": [
       "<div>\n",
       "<style scoped>\n",
       "    .dataframe tbody tr th:only-of-type {\n",
       "        vertical-align: middle;\n",
       "    }\n",
       "\n",
       "    .dataframe tbody tr th {\n",
       "        vertical-align: top;\n",
       "    }\n",
       "\n",
       "    .dataframe thead th {\n",
       "        text-align: right;\n",
       "    }\n",
       "</style>\n",
       "<table border=\"1\" class=\"dataframe\">\n",
       "  <thead>\n",
       "    <tr style=\"text-align: right;\">\n",
       "      <th></th>\n",
       "      <th>Open</th>\n",
       "      <th>High</th>\n",
       "      <th>Low</th>\n",
       "      <th>Close</th>\n",
       "      <th>Volume</th>\n",
       "    </tr>\n",
       "    <tr>\n",
       "      <th>Date</th>\n",
       "      <th></th>\n",
       "      <th></th>\n",
       "      <th></th>\n",
       "      <th></th>\n",
       "      <th></th>\n",
       "    </tr>\n",
       "  </thead>\n",
       "  <tbody>\n",
       "    <tr>\n",
       "      <th>1993-01-29 00:00:00-05:00</th>\n",
       "      <td>25.047175</td>\n",
       "      <td>25.047175</td>\n",
       "      <td>24.922562</td>\n",
       "      <td>25.029373</td>\n",
       "      <td>1.003200e+06</td>\n",
       "    </tr>\n",
       "    <tr>\n",
       "      <th>1993-02-01 00:00:00-05:00</th>\n",
       "      <td>25.047175</td>\n",
       "      <td>25.165854</td>\n",
       "      <td>25.014868</td>\n",
       "      <td>25.161239</td>\n",
       "      <td>6.160148e+05</td>\n",
       "    </tr>\n",
       "    <tr>\n",
       "      <th>1993-02-02 00:00:00-05:00</th>\n",
       "      <td>25.143898</td>\n",
       "      <td>25.242428</td>\n",
       "      <td>25.097263</td>\n",
       "      <td>25.228857</td>\n",
       "      <td>3.343749e+05</td>\n",
       "    </tr>\n",
       "    <tr>\n",
       "      <th>1993-02-03 00:00:00-05:00</th>\n",
       "      <td>25.244534</td>\n",
       "      <td>25.442508</td>\n",
       "      <td>25.216926</td>\n",
       "      <td>25.426145</td>\n",
       "      <td>4.630725e+05</td>\n",
       "    </tr>\n",
       "    <tr>\n",
       "      <th>1993-02-04 00:00:00-05:00</th>\n",
       "      <td>25.487809</td>\n",
       "      <td>25.602950</td>\n",
       "      <td>25.292125</td>\n",
       "      <td>25.562382</td>\n",
       "      <td>5.077852e+05</td>\n",
       "    </tr>\n",
       "  </tbody>\n",
       "</table>\n",
       "</div>"
      ],
      "text/plain": [
       "                                Open       High        Low      Close  \\\n",
       "Date                                                                    \n",
       "1993-01-29 00:00:00-05:00  25.047175  25.047175  24.922562  25.029373   \n",
       "1993-02-01 00:00:00-05:00  25.047175  25.165854  25.014868  25.161239   \n",
       "1993-02-02 00:00:00-05:00  25.143898  25.242428  25.097263  25.228857   \n",
       "1993-02-03 00:00:00-05:00  25.244534  25.442508  25.216926  25.426145   \n",
       "1993-02-04 00:00:00-05:00  25.487809  25.602950  25.292125  25.562382   \n",
       "\n",
       "                                 Volume  \n",
       "Date                                     \n",
       "1993-01-29 00:00:00-05:00  1.003200e+06  \n",
       "1993-02-01 00:00:00-05:00  6.160148e+05  \n",
       "1993-02-02 00:00:00-05:00  3.343749e+05  \n",
       "1993-02-03 00:00:00-05:00  4.630725e+05  \n",
       "1993-02-04 00:00:00-05:00  5.077852e+05  "
      ]
     },
     "execution_count": 82,
     "metadata": {},
     "output_type": "execute_result"
    }
   ],
   "source": [
    "df.head()"
   ]
  },
  {
   "cell_type": "code",
   "execution_count": 83,
   "id": "467e9ea8",
   "metadata": {},
   "outputs": [],
   "source": [
    "# list of symbols for technical indicators\n",
    "INDICATORS = ['RSI', 'MACD', 'STOCH','ADL', 'ATR', 'MOM', 'MFI', 'ROC', 'OBV', 'CCI', 'EMV']"
   ]
  },
  {
   "cell_type": "markdown",
   "id": "718e0c4b",
   "metadata": {},
   "source": [
    "`- **RSI (Relative Strength Index):** It is a momentum indicator that compares the magnitude of recent gains to recent losses in an attempt to determine overbought and oversold conditions of an asset.\n",
    "\n",
    "- **MACD (Moving Average Convergence Divergence):** It is a trend-following momentum indicator that shows the relationship between two moving averages of a security's price.\n",
    "\n",
    "- **STOCH (Stochastic Oscillator):** A momentum indicator that compares a stock's closing price to its price range over a given period of time. It is used to identify overbought or oversold conditions.\n",
    "\n",
    "- **ADL (Accumulation/Distribution Line):** A momentum indicator that uses volume flow to assess the buying and selling pressure of a security.\n",
    "\n",
    "- **ATR (Average True Range):** A volatility indicator that measures the range between the high and low prices of a security over a given period of time.\n",
    "\n",
    "- **MOM (Momentum Indicator):** A momentum indicator that compares the current closing price of a security to its closing price \"n\" periods ago.\n",
    "\n",
    "- **MFI (Money Flow Index):** A momentum indicator that uses both price and volume to measure buying and selling pressure.\n",
    "\n",
    "- **ROC (Rate of Change):** A momentum indicator that measures the percentage change in price over a specified period of time.\n",
    "\n",
    "- **OBV (On-Balance Volume):** A momentum indicator that uses volume to assess the buying and selling pressure of a security.\n",
    "\n",
    "- **CCI (Commodity Channel Index):** A momentum indicator that measures the deviation of an asset's price from its statistical mean.\n",
    "\n",
    "- **EMV (Ease of Movement):** A volume-based indicator that is used to assess the relationship between price and volume."
   ]
  },
  {
   "cell_type": "code",
   "execution_count": 84,
   "id": "78e7efe2",
   "metadata": {},
   "outputs": [
    {
     "data": {
      "text/plain": [
       "Date\n",
       "1993-01-29 00:00:00-05:00           NaN\n",
       "1993-02-01 00:00:00-05:00    100.000000\n",
       "1993-02-02 00:00:00-05:00    100.000000\n",
       "1993-02-03 00:00:00-05:00    100.000000\n",
       "1993-02-04 00:00:00-05:00    100.000000\n",
       "                                ...    \n",
       "2023-08-07 00:00:00-04:00     54.232738\n",
       "2023-08-08 00:00:00-04:00     52.754195\n",
       "2023-08-09 00:00:00-04:00     48.019790\n",
       "2023-08-10 00:00:00-04:00     46.656969\n",
       "2023-08-11 00:00:00-04:00     45.807311\n",
       "Name: 14 period RSI, Length: 7689, dtype: float64"
      ]
     },
     "execution_count": 84,
     "metadata": {},
     "output_type": "execute_result"
    }
   ],
   "source": [
    "TA.RSI(df)"
   ]
  },
  {
   "cell_type": "code",
   "execution_count": 85,
   "id": "8be7bb0e",
   "metadata": {},
   "outputs": [],
   "source": [
    "## FOR ALL INDICATORS\n",
    "def get_indicator_data(df):\n",
    "    for indicator in INDICATORS:\n",
    "        indicator_data=eval('TA.'+indicator+'(data)')\n",
    "        \n",
    "        if not isinstance (indicator_data, pd.DataFrame):\n",
    "            indicator_data=indicator_data.to_frame()\n",
    "         \n",
    "        df=df.merge(indicator_data,left_index=True,right_index=True)\n",
    "        \n",
    "        #moving averages\n",
    "    df['ema50'] = df['Close'] / df['Close'].ewm(50).mean()\n",
    "    df['ema21'] = df['Close'] / df['Close'].ewm(21).mean()\n",
    "    df['ema15'] = df['Close'] / df['Close'].ewm(14).mean()\n",
    "    df['ema5'] = df['Close'] / df['Close'].ewm(5).mean()\n",
    "    \n",
    "    return df\n"
   ]
  },
  {
   "cell_type": "code",
   "execution_count": 86,
   "id": "70c60035",
   "metadata": {},
   "outputs": [],
   "source": [
    "df=get_indicator_data(df)"
   ]
  },
  {
   "cell_type": "code",
   "execution_count": 87,
   "id": "e780a243",
   "metadata": {},
   "outputs": [
    {
     "data": {
      "text/html": [
       "<div>\n",
       "<style scoped>\n",
       "    .dataframe tbody tr th:only-of-type {\n",
       "        vertical-align: middle;\n",
       "    }\n",
       "\n",
       "    .dataframe tbody tr th {\n",
       "        vertical-align: top;\n",
       "    }\n",
       "\n",
       "    .dataframe thead th {\n",
       "        text-align: right;\n",
       "    }\n",
       "</style>\n",
       "<table border=\"1\" class=\"dataframe\">\n",
       "  <thead>\n",
       "    <tr style=\"text-align: right;\">\n",
       "      <th></th>\n",
       "      <th>Open</th>\n",
       "      <th>High</th>\n",
       "      <th>Low</th>\n",
       "      <th>Close</th>\n",
       "      <th>Volume</th>\n",
       "      <th>14 period RSI</th>\n",
       "      <th>MACD</th>\n",
       "      <th>SIGNAL</th>\n",
       "      <th>14 period STOCH %K</th>\n",
       "      <th>MFV</th>\n",
       "      <th>...</th>\n",
       "      <th>MOM</th>\n",
       "      <th>14 period MFI</th>\n",
       "      <th>ROC</th>\n",
       "      <th>OBV</th>\n",
       "      <th>20 period CCI</th>\n",
       "      <th>14 period EMV.</th>\n",
       "      <th>ema50</th>\n",
       "      <th>ema21</th>\n",
       "      <th>ema15</th>\n",
       "      <th>ema5</th>\n",
       "    </tr>\n",
       "    <tr>\n",
       "      <th>Date</th>\n",
       "      <th></th>\n",
       "      <th></th>\n",
       "      <th></th>\n",
       "      <th></th>\n",
       "      <th></th>\n",
       "      <th></th>\n",
       "      <th></th>\n",
       "      <th></th>\n",
       "      <th></th>\n",
       "      <th></th>\n",
       "      <th></th>\n",
       "      <th></th>\n",
       "      <th></th>\n",
       "      <th></th>\n",
       "      <th></th>\n",
       "      <th></th>\n",
       "      <th></th>\n",
       "      <th></th>\n",
       "      <th></th>\n",
       "      <th></th>\n",
       "      <th></th>\n",
       "    </tr>\n",
       "  </thead>\n",
       "  <tbody>\n",
       "    <tr>\n",
       "      <th>1993-01-29 00:00:00-05:00</th>\n",
       "      <td>25.047175</td>\n",
       "      <td>25.047175</td>\n",
       "      <td>24.922562</td>\n",
       "      <td>25.029373</td>\n",
       "      <td>1.003200e+06</td>\n",
       "      <td>NaN</td>\n",
       "      <td>0.000000</td>\n",
       "      <td>0.000000</td>\n",
       "      <td>NaN</td>\n",
       "      <td>7.165714e+05</td>\n",
       "      <td>...</td>\n",
       "      <td>NaN</td>\n",
       "      <td>NaN</td>\n",
       "      <td>NaN</td>\n",
       "      <td>NaN</td>\n",
       "      <td>NaN</td>\n",
       "      <td>NaN</td>\n",
       "      <td>1.000000</td>\n",
       "      <td>1.000000</td>\n",
       "      <td>1.000000</td>\n",
       "      <td>1.000000</td>\n",
       "    </tr>\n",
       "    <tr>\n",
       "      <th>1993-02-01 00:00:00-05:00</th>\n",
       "      <td>25.047175</td>\n",
       "      <td>25.165854</td>\n",
       "      <td>25.014868</td>\n",
       "      <td>25.161239</td>\n",
       "      <td>6.160148e+05</td>\n",
       "      <td>100.0</td>\n",
       "      <td>0.002959</td>\n",
       "      <td>0.001644</td>\n",
       "      <td>NaN</td>\n",
       "      <td>1.294926e+06</td>\n",
       "      <td>...</td>\n",
       "      <td>NaN</td>\n",
       "      <td>NaN</td>\n",
       "      <td>NaN</td>\n",
       "      <td>6.160148e+05</td>\n",
       "      <td>66.666667</td>\n",
       "      <td>NaN</td>\n",
       "      <td>1.002601</td>\n",
       "      <td>1.002566</td>\n",
       "      <td>1.002536</td>\n",
       "      <td>1.002388</td>\n",
       "    </tr>\n",
       "    <tr>\n",
       "      <th>1993-02-02 00:00:00-05:00</th>\n",
       "      <td>25.143898</td>\n",
       "      <td>25.242428</td>\n",
       "      <td>25.097263</td>\n",
       "      <td>25.228857</td>\n",
       "      <td>3.343749e+05</td>\n",
       "      <td>100.0</td>\n",
       "      <td>0.005867</td>\n",
       "      <td>0.003374</td>\n",
       "      <td>NaN</td>\n",
       "      <td>1.566784e+06</td>\n",
       "      <td>...</td>\n",
       "      <td>NaN</td>\n",
       "      <td>NaN</td>\n",
       "      <td>NaN</td>\n",
       "      <td>9.503897e+05</td>\n",
       "      <td>87.255797</td>\n",
       "      <td>NaN</td>\n",
       "      <td>1.003489</td>\n",
       "      <td>1.003418</td>\n",
       "      <td>1.003359</td>\n",
       "      <td>1.003065</td>\n",
       "    </tr>\n",
       "    <tr>\n",
       "      <th>1993-02-03 00:00:00-05:00</th>\n",
       "      <td>25.244534</td>\n",
       "      <td>25.442508</td>\n",
       "      <td>25.216926</td>\n",
       "      <td>25.426145</td>\n",
       "      <td>4.630725e+05</td>\n",
       "      <td>100.0</td>\n",
       "      <td>0.014168</td>\n",
       "      <td>0.007031</td>\n",
       "      <td>NaN</td>\n",
       "      <td>1.962678e+06</td>\n",
       "      <td>...</td>\n",
       "      <td>NaN</td>\n",
       "      <td>NaN</td>\n",
       "      <td>NaN</td>\n",
       "      <td>1.413462e+06</td>\n",
       "      <td>119.168241</td>\n",
       "      <td>NaN</td>\n",
       "      <td>1.008393</td>\n",
       "      <td>1.008225</td>\n",
       "      <td>1.008083</td>\n",
       "      <td>1.007371</td>\n",
       "    </tr>\n",
       "    <tr>\n",
       "      <th>1993-02-04 00:00:00-05:00</th>\n",
       "      <td>25.487809</td>\n",
       "      <td>25.602950</td>\n",
       "      <td>25.292125</td>\n",
       "      <td>25.562382</td>\n",
       "      <td>5.077852e+05</td>\n",
       "      <td>100.0</td>\n",
       "      <td>0.023802</td>\n",
       "      <td>0.012020</td>\n",
       "      <td>NaN</td>\n",
       "      <td>2.337915e+06</td>\n",
       "      <td>...</td>\n",
       "      <td>NaN</td>\n",
       "      <td>NaN</td>\n",
       "      <td>NaN</td>\n",
       "      <td>1.921247e+06</td>\n",
       "      <td>110.003313</td>\n",
       "      <td>NaN</td>\n",
       "      <td>1.010895</td>\n",
       "      <td>1.010610</td>\n",
       "      <td>1.010371</td>\n",
       "      <td>1.009178</td>\n",
       "    </tr>\n",
       "  </tbody>\n",
       "</table>\n",
       "<p>5 rows × 21 columns</p>\n",
       "</div>"
      ],
      "text/plain": [
       "                                Open       High        Low      Close  \\\n",
       "Date                                                                    \n",
       "1993-01-29 00:00:00-05:00  25.047175  25.047175  24.922562  25.029373   \n",
       "1993-02-01 00:00:00-05:00  25.047175  25.165854  25.014868  25.161239   \n",
       "1993-02-02 00:00:00-05:00  25.143898  25.242428  25.097263  25.228857   \n",
       "1993-02-03 00:00:00-05:00  25.244534  25.442508  25.216926  25.426145   \n",
       "1993-02-04 00:00:00-05:00  25.487809  25.602950  25.292125  25.562382   \n",
       "\n",
       "                                 Volume  14 period RSI      MACD    SIGNAL  \\\n",
       "Date                                                                         \n",
       "1993-01-29 00:00:00-05:00  1.003200e+06            NaN  0.000000  0.000000   \n",
       "1993-02-01 00:00:00-05:00  6.160148e+05          100.0  0.002959  0.001644   \n",
       "1993-02-02 00:00:00-05:00  3.343749e+05          100.0  0.005867  0.003374   \n",
       "1993-02-03 00:00:00-05:00  4.630725e+05          100.0  0.014168  0.007031   \n",
       "1993-02-04 00:00:00-05:00  5.077852e+05          100.0  0.023802  0.012020   \n",
       "\n",
       "                           14 period STOCH %K           MFV  ...  MOM  \\\n",
       "Date                                                         ...        \n",
       "1993-01-29 00:00:00-05:00                 NaN  7.165714e+05  ...  NaN   \n",
       "1993-02-01 00:00:00-05:00                 NaN  1.294926e+06  ...  NaN   \n",
       "1993-02-02 00:00:00-05:00                 NaN  1.566784e+06  ...  NaN   \n",
       "1993-02-03 00:00:00-05:00                 NaN  1.962678e+06  ...  NaN   \n",
       "1993-02-04 00:00:00-05:00                 NaN  2.337915e+06  ...  NaN   \n",
       "\n",
       "                           14 period MFI  ROC           OBV  20 period CCI  \\\n",
       "Date                                                                         \n",
       "1993-01-29 00:00:00-05:00            NaN  NaN           NaN            NaN   \n",
       "1993-02-01 00:00:00-05:00            NaN  NaN  6.160148e+05      66.666667   \n",
       "1993-02-02 00:00:00-05:00            NaN  NaN  9.503897e+05      87.255797   \n",
       "1993-02-03 00:00:00-05:00            NaN  NaN  1.413462e+06     119.168241   \n",
       "1993-02-04 00:00:00-05:00            NaN  NaN  1.921247e+06     110.003313   \n",
       "\n",
       "                           14 period EMV.     ema50     ema21     ema15  \\\n",
       "Date                                                                      \n",
       "1993-01-29 00:00:00-05:00             NaN  1.000000  1.000000  1.000000   \n",
       "1993-02-01 00:00:00-05:00             NaN  1.002601  1.002566  1.002536   \n",
       "1993-02-02 00:00:00-05:00             NaN  1.003489  1.003418  1.003359   \n",
       "1993-02-03 00:00:00-05:00             NaN  1.008393  1.008225  1.008083   \n",
       "1993-02-04 00:00:00-05:00             NaN  1.010895  1.010610  1.010371   \n",
       "\n",
       "                               ema5  \n",
       "Date                                 \n",
       "1993-01-29 00:00:00-05:00  1.000000  \n",
       "1993-02-01 00:00:00-05:00  1.002388  \n",
       "1993-02-02 00:00:00-05:00  1.003065  \n",
       "1993-02-03 00:00:00-05:00  1.007371  \n",
       "1993-02-04 00:00:00-05:00  1.009178  \n",
       "\n",
       "[5 rows x 21 columns]"
      ]
     },
     "execution_count": 87,
     "metadata": {},
     "output_type": "execute_result"
    }
   ],
   "source": [
    "df.head()"
   ]
  },
  {
   "cell_type": "code",
   "execution_count": 88,
   "id": "4e83099a",
   "metadata": {},
   "outputs": [
    {
     "data": {
      "text/plain": [
       "(7689, 21)"
      ]
     },
     "execution_count": 88,
     "metadata": {},
     "output_type": "execute_result"
    }
   ],
   "source": [
    "df.shape"
   ]
  },
  {
   "cell_type": "code",
   "execution_count": 89,
   "id": "be6fddba",
   "metadata": {},
   "outputs": [],
   "source": [
    "## basic idea is that compare the current value with the previous 10 values\n",
    "## if the stock price has increased then go ahead and buy the stock else no\n",
    "\n",
    "window=10\n",
    "prediction=df.shift(-window)['Close']>=df['Close']\n",
    "prediction=prediction.iloc[:-window]\n",
    "df['pred']=prediction.astype(int)"
   ]
  },
  {
   "cell_type": "code",
   "execution_count": 90,
   "id": "02b705da",
   "metadata": {},
   "outputs": [],
   "source": [
    "## first 10 values will be null so we drop them\n",
    "df=df.dropna()"
   ]
  },
  {
   "cell_type": "code",
   "execution_count": 91,
   "id": "0f908e18",
   "metadata": {},
   "outputs": [
    {
     "data": {
      "text/html": [
       "<div>\n",
       "<style scoped>\n",
       "    .dataframe tbody tr th:only-of-type {\n",
       "        vertical-align: middle;\n",
       "    }\n",
       "\n",
       "    .dataframe tbody tr th {\n",
       "        vertical-align: top;\n",
       "    }\n",
       "\n",
       "    .dataframe thead th {\n",
       "        text-align: right;\n",
       "    }\n",
       "</style>\n",
       "<table border=\"1\" class=\"dataframe\">\n",
       "  <thead>\n",
       "    <tr style=\"text-align: right;\">\n",
       "      <th></th>\n",
       "      <th>Open</th>\n",
       "      <th>High</th>\n",
       "      <th>Low</th>\n",
       "      <th>Close</th>\n",
       "      <th>Volume</th>\n",
       "      <th>14 period RSI</th>\n",
       "      <th>MACD</th>\n",
       "      <th>SIGNAL</th>\n",
       "      <th>14 period STOCH %K</th>\n",
       "      <th>MFV</th>\n",
       "      <th>...</th>\n",
       "      <th>14 period MFI</th>\n",
       "      <th>ROC</th>\n",
       "      <th>OBV</th>\n",
       "      <th>20 period CCI</th>\n",
       "      <th>14 period EMV.</th>\n",
       "      <th>ema50</th>\n",
       "      <th>ema21</th>\n",
       "      <th>ema15</th>\n",
       "      <th>ema5</th>\n",
       "      <th>pred</th>\n",
       "    </tr>\n",
       "    <tr>\n",
       "      <th>Date</th>\n",
       "      <th></th>\n",
       "      <th></th>\n",
       "      <th></th>\n",
       "      <th></th>\n",
       "      <th></th>\n",
       "      <th></th>\n",
       "      <th></th>\n",
       "      <th></th>\n",
       "      <th></th>\n",
       "      <th></th>\n",
       "      <th></th>\n",
       "      <th></th>\n",
       "      <th></th>\n",
       "      <th></th>\n",
       "      <th></th>\n",
       "      <th></th>\n",
       "      <th></th>\n",
       "      <th></th>\n",
       "      <th></th>\n",
       "      <th></th>\n",
       "      <th></th>\n",
       "    </tr>\n",
       "  </thead>\n",
       "  <tbody>\n",
       "    <tr>\n",
       "      <th>2023-07-24 00:00:00-04:00</th>\n",
       "      <td>453.563323</td>\n",
       "      <td>454.864758</td>\n",
       "      <td>452.210726</td>\n",
       "      <td>453.585892</td>\n",
       "      <td>5.988045e+07</td>\n",
       "      <td>76.188649</td>\n",
       "      <td>6.284401</td>\n",
       "      <td>5.969294</td>\n",
       "      <td>89.349325</td>\n",
       "      <td>4.231618e+10</td>\n",
       "      <td>...</td>\n",
       "      <td>63.029449</td>\n",
       "      <td>2.890324</td>\n",
       "      <td>4.557581e+10</td>\n",
       "      <td>105.702000</td>\n",
       "      <td>0.034184</td>\n",
       "      <td>1.074678</td>\n",
       "      <td>1.039686</td>\n",
       "      <td>1.027532</td>\n",
       "      <td>1.009244</td>\n",
       "      <td>0.0</td>\n",
       "    </tr>\n",
       "    <tr>\n",
       "      <th>2023-07-25 00:00:00-04:00</th>\n",
       "      <td>453.795172</td>\n",
       "      <td>456.083659</td>\n",
       "      <td>453.289251</td>\n",
       "      <td>454.791064</td>\n",
       "      <td>5.683244e+07</td>\n",
       "      <td>77.443984</td>\n",
       "      <td>6.285561</td>\n",
       "      <td>6.032548</td>\n",
       "      <td>92.897094</td>\n",
       "      <td>4.232044e+10</td>\n",
       "      <td>...</td>\n",
       "      <td>63.087515</td>\n",
       "      <td>3.513838</td>\n",
       "      <td>4.563265e+10</td>\n",
       "      <td>105.411642</td>\n",
       "      <td>0.037320</td>\n",
       "      <td>1.075897</td>\n",
       "      <td>1.040441</td>\n",
       "      <td>1.028188</td>\n",
       "      <td>1.009918</td>\n",
       "      <td>0.0</td>\n",
       "    </tr>\n",
       "    <tr>\n",
       "      <th>2023-07-26 00:00:00-04:00</th>\n",
       "      <td>454.233811</td>\n",
       "      <td>456.672774</td>\n",
       "      <td>453.348241</td>\n",
       "      <td>455.258379</td>\n",
       "      <td>6.607574e+07</td>\n",
       "      <td>77.929860</td>\n",
       "      <td>6.252118</td>\n",
       "      <td>6.076462</td>\n",
       "      <td>92.471506</td>\n",
       "      <td>4.233029e+10</td>\n",
       "      <td>...</td>\n",
       "      <td>70.238008</td>\n",
       "      <td>3.573147</td>\n",
       "      <td>4.569872e+10</td>\n",
       "      <td>98.858184</td>\n",
       "      <td>0.045575</td>\n",
       "      <td>1.075379</td>\n",
       "      <td>1.039548</td>\n",
       "      <td>1.027242</td>\n",
       "      <td>1.009113</td>\n",
       "      <td>0.0</td>\n",
       "    </tr>\n",
       "    <tr>\n",
       "      <th>2023-07-27 00:00:00-04:00</th>\n",
       "      <td>457.344827</td>\n",
       "      <td>458.471473</td>\n",
       "      <td>452.179376</td>\n",
       "      <td>453.458926</td>\n",
       "      <td>8.305287e+07</td>\n",
       "      <td>71.539508</td>\n",
       "      <td>6.011121</td>\n",
       "      <td>6.063393</td>\n",
       "      <td>75.650622</td>\n",
       "      <td>4.228101e+10</td>\n",
       "      <td>...</td>\n",
       "      <td>69.915568</td>\n",
       "      <td>2.722110</td>\n",
       "      <td>4.561567e+10</td>\n",
       "      <td>86.847320</td>\n",
       "      <td>0.046319</td>\n",
       "      <td>1.069637</td>\n",
       "      <td>1.033774</td>\n",
       "      <td>1.021603</td>\n",
       "      <td>1.004267</td>\n",
       "      <td>0.0</td>\n",
       "    </tr>\n",
       "    <tr>\n",
       "      <th>2023-07-28 00:00:00-04:00</th>\n",
       "      <td>456.392693</td>\n",
       "      <td>458.022015</td>\n",
       "      <td>452.381275</td>\n",
       "      <td>455.708633</td>\n",
       "      <td>8.107617e+07</td>\n",
       "      <td>74.369283</td>\n",
       "      <td>5.933266</td>\n",
       "      <td>6.037368</td>\n",
       "      <td>85.886260</td>\n",
       "      <td>4.229559e+10</td>\n",
       "      <td>...</td>\n",
       "      <td>77.180955</td>\n",
       "      <td>2.540584</td>\n",
       "      <td>4.569675e+10</td>\n",
       "      <td>87.310967</td>\n",
       "      <td>0.048691</td>\n",
       "      <td>1.073366</td>\n",
       "      <td>1.037069</td>\n",
       "      <td>1.024849</td>\n",
       "      <td>1.007696</td>\n",
       "      <td>0.0</td>\n",
       "    </tr>\n",
       "  </tbody>\n",
       "</table>\n",
       "<p>5 rows × 22 columns</p>\n",
       "</div>"
      ],
      "text/plain": [
       "                                 Open        High         Low       Close  \\\n",
       "Date                                                                        \n",
       "2023-07-24 00:00:00-04:00  453.563323  454.864758  452.210726  453.585892   \n",
       "2023-07-25 00:00:00-04:00  453.795172  456.083659  453.289251  454.791064   \n",
       "2023-07-26 00:00:00-04:00  454.233811  456.672774  453.348241  455.258379   \n",
       "2023-07-27 00:00:00-04:00  457.344827  458.471473  452.179376  453.458926   \n",
       "2023-07-28 00:00:00-04:00  456.392693  458.022015  452.381275  455.708633   \n",
       "\n",
       "                                 Volume  14 period RSI      MACD    SIGNAL  \\\n",
       "Date                                                                         \n",
       "2023-07-24 00:00:00-04:00  5.988045e+07      76.188649  6.284401  5.969294   \n",
       "2023-07-25 00:00:00-04:00  5.683244e+07      77.443984  6.285561  6.032548   \n",
       "2023-07-26 00:00:00-04:00  6.607574e+07      77.929860  6.252118  6.076462   \n",
       "2023-07-27 00:00:00-04:00  8.305287e+07      71.539508  6.011121  6.063393   \n",
       "2023-07-28 00:00:00-04:00  8.107617e+07      74.369283  5.933266  6.037368   \n",
       "\n",
       "                           14 period STOCH %K           MFV  ...  \\\n",
       "Date                                                         ...   \n",
       "2023-07-24 00:00:00-04:00           89.349325  4.231618e+10  ...   \n",
       "2023-07-25 00:00:00-04:00           92.897094  4.232044e+10  ...   \n",
       "2023-07-26 00:00:00-04:00           92.471506  4.233029e+10  ...   \n",
       "2023-07-27 00:00:00-04:00           75.650622  4.228101e+10  ...   \n",
       "2023-07-28 00:00:00-04:00           85.886260  4.229559e+10  ...   \n",
       "\n",
       "                           14 period MFI       ROC           OBV  \\\n",
       "Date                                                               \n",
       "2023-07-24 00:00:00-04:00      63.029449  2.890324  4.557581e+10   \n",
       "2023-07-25 00:00:00-04:00      63.087515  3.513838  4.563265e+10   \n",
       "2023-07-26 00:00:00-04:00      70.238008  3.573147  4.569872e+10   \n",
       "2023-07-27 00:00:00-04:00      69.915568  2.722110  4.561567e+10   \n",
       "2023-07-28 00:00:00-04:00      77.180955  2.540584  4.569675e+10   \n",
       "\n",
       "                           20 period CCI  14 period EMV.     ema50     ema21  \\\n",
       "Date                                                                           \n",
       "2023-07-24 00:00:00-04:00     105.702000        0.034184  1.074678  1.039686   \n",
       "2023-07-25 00:00:00-04:00     105.411642        0.037320  1.075897  1.040441   \n",
       "2023-07-26 00:00:00-04:00      98.858184        0.045575  1.075379  1.039548   \n",
       "2023-07-27 00:00:00-04:00      86.847320        0.046319  1.069637  1.033774   \n",
       "2023-07-28 00:00:00-04:00      87.310967        0.048691  1.073366  1.037069   \n",
       "\n",
       "                              ema15      ema5  pred  \n",
       "Date                                                 \n",
       "2023-07-24 00:00:00-04:00  1.027532  1.009244   0.0  \n",
       "2023-07-25 00:00:00-04:00  1.028188  1.009918   0.0  \n",
       "2023-07-26 00:00:00-04:00  1.027242  1.009113   0.0  \n",
       "2023-07-27 00:00:00-04:00  1.021603  1.004267   0.0  \n",
       "2023-07-28 00:00:00-04:00  1.024849  1.007696   0.0  \n",
       "\n",
       "[5 rows x 22 columns]"
      ]
     },
     "execution_count": 91,
     "metadata": {},
     "output_type": "execute_result"
    }
   ],
   "source": [
    "df.tail()"
   ]
  },
  {
   "cell_type": "markdown",
   "id": "8c0e477b",
   "metadata": {},
   "source": [
    "### Prepare the model"
   ]
  },
  {
   "cell_type": "code",
   "execution_count": 92,
   "id": "cfc64b50",
   "metadata": {},
   "outputs": [],
   "source": [
    "x=df.drop('pred',axis=1)\n",
    "y=df['pred']"
   ]
  },
  {
   "cell_type": "code",
   "execution_count": 93,
   "id": "e07b8dea",
   "metadata": {},
   "outputs": [],
   "source": [
    "from sklearn.model_selection import train_test_split\n",
    " \n",
    "X_train,X_test,y_train,y_test=train_test_split(x,y,test_size=0.3,random_state=31)"
   ]
  },
  {
   "cell_type": "code",
   "execution_count": 94,
   "id": "4a6b9f1b",
   "metadata": {},
   "outputs": [],
   "source": [
    "## Importing all machine learning models\n",
    "from sklearn.linear_model import LogisticRegression\n",
    "from sklearn.svm import SVC\n",
    "from sklearn.tree import DecisionTreeClassifier\n",
    "from sklearn.ensemble import RandomForestClassifier\n",
    "from sklearn.model_selection import RandomizedSearchCV\n",
    "from sklearn.metrics import confusion_matrix, classification_report, accuracy_score\n",
    "\n",
    "# library to plot the images in the notebook\n",
    "from IPython.display import Image\n",
    "from IPython.core.display import HTML "
   ]
  },
  {
   "cell_type": "markdown",
   "id": "627a096c",
   "metadata": {},
   "source": [
    "### Logistic Regression"
   ]
  },
  {
   "cell_type": "code",
   "execution_count": 95,
   "id": "870485d9",
   "metadata": {},
   "outputs": [],
   "source": [
    "# define the parameter\n",
    "parameters = {'max_iter': [100, 200, 500]}\n",
    "# initialise the model\n",
    "lr_classifier = LogisticRegression()\n",
    "# initialise Hyperparameter tuning and Cross validation\n",
    "lr_classifier_rs = RandomizedSearchCV(estimator = lr_classifier, param_distributions= parameters, cv = 5, random_state=21, verbose=1)"
   ]
  },
  {
   "cell_type": "code",
   "execution_count": 96,
   "id": "2b8a0048",
   "metadata": {},
   "outputs": [
    {
     "name": "stderr",
     "output_type": "stream",
     "text": [
      "C:\\Users\\Vikas Velmurugan\\anaconda3\\lib\\site-packages\\sklearn\\model_selection\\_search.py:292: UserWarning: The total space of parameters 3 is smaller than n_iter=10. Running 3 iterations. For exhaustive searches, use GridSearchCV.\n",
      "  warnings.warn(\n"
     ]
    },
    {
     "name": "stdout",
     "output_type": "stream",
     "text": [
      "Fitting 5 folds for each of 3 candidates, totalling 15 fits\n"
     ]
    },
    {
     "data": {
      "text/plain": [
       "RandomizedSearchCV(cv=5, estimator=LogisticRegression(),\n",
       "                   param_distributions={'max_iter': [100, 200, 500]},\n",
       "                   random_state=21, verbose=1)"
      ]
     },
     "execution_count": 96,
     "metadata": {},
     "output_type": "execute_result"
    }
   ],
   "source": [
    "lr_classifier_rs.fit(X_train , y_train)"
   ]
  },
  {
   "cell_type": "code",
   "execution_count": 99,
   "id": "d1f9f0aa",
   "metadata": {},
   "outputs": [],
   "source": [
    "def get_best_randomsearch_results(model):\n",
    "    print(\"Best estimator : \", model.best_estimator_)\n",
    "    print(\"Best set of parameters : \", model.best_params_)\n",
    "    print(\"Best score : \", model.best_score_)"
   ]
  },
  {
   "cell_type": "code",
   "execution_count": 100,
   "id": "850b62c0",
   "metadata": {},
   "outputs": [
    {
     "name": "stdout",
     "output_type": "stream",
     "text": [
      "Best estimator :  LogisticRegression()\n",
      "Best set of parameters :  {'max_iter': 100}\n",
      "Best score :  0.6307548928238582\n"
     ]
    }
   ],
   "source": [
    "get_best_randomsearch_results(lr_classifier_rs)"
   ]
  },
  {
   "cell_type": "markdown",
   "id": "cb78b2b5",
   "metadata": {},
   "source": [
    "#### Model Prediction"
   ]
  },
  {
   "cell_type": "code",
   "execution_count": 101,
   "id": "bbd159e3",
   "metadata": {},
   "outputs": [],
   "source": [
    "y_pred_lr = lr_classifier_rs.predict(X_test)"
   ]
  },
  {
   "cell_type": "markdown",
   "id": "f0acc272",
   "metadata": {},
   "source": [
    "### Model Evaluation"
   ]
  },
  {
   "cell_type": "code",
   "execution_count": 102,
   "id": "8fd607e4",
   "metadata": {},
   "outputs": [
    {
     "name": "stdout",
     "output_type": "stream",
     "text": [
      "Accuracy using Logistic Regression :  0.6052173913043478\n"
     ]
    }
   ],
   "source": [
    "lr_accuracy = accuracy_score(y_true=y_test, y_pred=y_pred_lr)\n",
    "print(\"Accuracy using Logistic Regression : \", lr_accuracy)"
   ]
  },
  {
   "cell_type": "code",
   "execution_count": 106,
   "id": "2153f8fa",
   "metadata": {},
   "outputs": [
    {
     "data": {
      "text/plain": [
       "array([[   0,  908],\n",
       "       [   0, 1392]], dtype=int64)"
      ]
     },
     "execution_count": 106,
     "metadata": {},
     "output_type": "execute_result"
    }
   ],
   "source": [
    "cm = confusion_matrix(y_test.values,y_pred_lr)\n",
    "cm"
   ]
  },
  {
   "cell_type": "markdown",
   "id": "0d649c27",
   "metadata": {},
   "source": [
    "### SVM"
   ]
  },
  {
   "cell_type": "code",
   "execution_count": 108,
   "id": "3186cc19",
   "metadata": {},
   "outputs": [],
   "source": [
    "parameters = {\n",
    "    'kernel': ['rbf', 'poly', 'sigmoid'],\n",
    "    'C':[1.0, 2.0]\n",
    "}\n",
    "\n",
    "svm_rs = RandomizedSearchCV(estimator = SVC(), param_distributions=parameters, cv = 5, random_state = 42, verbose = 1)"
   ]
  },
  {
   "cell_type": "code",
   "execution_count": 109,
   "id": "9d6637cc",
   "metadata": {},
   "outputs": [
    {
     "name": "stderr",
     "output_type": "stream",
     "text": [
      "C:\\Users\\Vikas Velmurugan\\anaconda3\\lib\\site-packages\\sklearn\\model_selection\\_search.py:292: UserWarning: The total space of parameters 6 is smaller than n_iter=10. Running 6 iterations. For exhaustive searches, use GridSearchCV.\n",
      "  warnings.warn(\n"
     ]
    },
    {
     "name": "stdout",
     "output_type": "stream",
     "text": [
      "Fitting 5 folds for each of 6 candidates, totalling 30 fits\n"
     ]
    },
    {
     "data": {
      "text/plain": [
       "RandomizedSearchCV(cv=5, estimator=SVC(),\n",
       "                   param_distributions={'C': [1.0, 2.0],\n",
       "                                        'kernel': ['rbf', 'poly', 'sigmoid']},\n",
       "                   random_state=42, verbose=1)"
      ]
     },
     "execution_count": 109,
     "metadata": {},
     "output_type": "execute_result"
    }
   ],
   "source": [
    "svm_rs.fit(X_train, y_train)"
   ]
  },
  {
   "cell_type": "code",
   "execution_count": 110,
   "id": "c9ee1207",
   "metadata": {},
   "outputs": [
    {
     "name": "stdout",
     "output_type": "stream",
     "text": [
      "Best estimator :  SVC()\n",
      "Best set of parameters :  {'kernel': 'rbf', 'C': 1.0}\n",
      "Best score :  0.6307548928238582\n"
     ]
    }
   ],
   "source": [
    "get_best_randomsearch_results(svm_rs)"
   ]
  },
  {
   "cell_type": "code",
   "execution_count": 111,
   "id": "950097c4",
   "metadata": {},
   "outputs": [],
   "source": [
    "y_pred_svm = svm_rs.predict(X_test)"
   ]
  },
  {
   "cell_type": "code",
   "execution_count": 113,
   "id": "7188d38b",
   "metadata": {},
   "outputs": [
    {
     "name": "stdout",
     "output_type": "stream",
     "text": [
      "Accuracy using Kernel SVM :  0.6052173913043478\n"
     ]
    }
   ],
   "source": [
    "svm_accuracy = accuracy_score(y_true=y_test, y_pred=y_pred_svm)\n",
    "print(\"Accuracy using Kernel SVM : \", svm_accuracy)"
   ]
  },
  {
   "cell_type": "code",
   "execution_count": 114,
   "id": "db67ab28",
   "metadata": {},
   "outputs": [
    {
     "data": {
      "text/plain": [
       "array([[   0,  908],\n",
       "       [   0, 1392]], dtype=int64)"
      ]
     },
     "execution_count": 114,
     "metadata": {},
     "output_type": "execute_result"
    }
   ],
   "source": [
    "cm = confusion_matrix(y_test.values, y_pred_svm)\n",
    "cm"
   ]
  },
  {
   "cell_type": "markdown",
   "id": "7b5d770e",
   "metadata": {},
   "source": [
    "### Decision Tree"
   ]
  },
  {
   "cell_type": "code",
   "execution_count": 115,
   "id": "a309a8b2",
   "metadata": {},
   "outputs": [],
   "source": [
    "parameters = {'max_depth': np.arange(2, 20, 2)}\n",
    "\n",
    "dt_classifier = DecisionTreeClassifier()\n",
    "dt_classifier_rs = RandomizedSearchCV(dt_classifier, param_distributions = parameters, random_state = 42, cv = 5, verbose = 1)"
   ]
  },
  {
   "cell_type": "code",
   "execution_count": 116,
   "id": "4b885a9a",
   "metadata": {},
   "outputs": [
    {
     "name": "stderr",
     "output_type": "stream",
     "text": [
      "C:\\Users\\Vikas Velmurugan\\anaconda3\\lib\\site-packages\\sklearn\\model_selection\\_search.py:292: UserWarning: The total space of parameters 9 is smaller than n_iter=10. Running 9 iterations. For exhaustive searches, use GridSearchCV.\n",
      "  warnings.warn(\n"
     ]
    },
    {
     "name": "stdout",
     "output_type": "stream",
     "text": [
      "Fitting 5 folds for each of 9 candidates, totalling 45 fits\n"
     ]
    },
    {
     "data": {
      "text/plain": [
       "RandomizedSearchCV(cv=5, estimator=DecisionTreeClassifier(),\n",
       "                   param_distributions={'max_depth': array([ 2,  4,  6,  8, 10, 12, 14, 16, 18])},\n",
       "                   random_state=42, verbose=1)"
      ]
     },
     "execution_count": 116,
     "metadata": {},
     "output_type": "execute_result"
    }
   ],
   "source": [
    "dt_classifier_rs.fit(X_train, y_train)"
   ]
  },
  {
   "cell_type": "code",
   "execution_count": 117,
   "id": "4f473293",
   "metadata": {},
   "outputs": [],
   "source": [
    "y_pred_dt = dt_classifier_rs.predict(X_test)"
   ]
  },
  {
   "cell_type": "code",
   "execution_count": 118,
   "id": "12149351",
   "metadata": {},
   "outputs": [
    {
     "name": "stdout",
     "output_type": "stream",
     "text": [
      "Accuracy using Decision tree :  0.7343478260869565\n"
     ]
    }
   ],
   "source": [
    "dt_accuracy = accuracy_score(y_true=y_test, y_pred=y_pred_dt)\n",
    "print(\"Accuracy using Decision tree : \", dt_accuracy)"
   ]
  },
  {
   "cell_type": "code",
   "execution_count": 120,
   "id": "54c8b613",
   "metadata": {},
   "outputs": [
    {
     "data": {
      "text/plain": [
       "array([[ 543,  365],\n",
       "       [ 246, 1146]], dtype=int64)"
      ]
     },
     "execution_count": 120,
     "metadata": {},
     "output_type": "execute_result"
    }
   ],
   "source": [
    "cm = confusion_matrix(y_test.values,y_pred_dt)\n",
    "cm"
   ]
  },
  {
   "cell_type": "markdown",
   "id": "20e6a46c",
   "metadata": {},
   "source": [
    "#### Random Forest"
   ]
  },
  {
   "cell_type": "code",
   "execution_count": 121,
   "id": "b907a38b",
   "metadata": {},
   "outputs": [],
   "source": [
    "parameters = {\n",
    "    'n_estimators':[110,130,140,150,160,180,200], \n",
    "    'max_depth': np.arange(2, 17, 2)\n",
    "}\n",
    "rf_classifier = RandomForestClassifier()\n",
    "rf_classifier_rs = RandomizedSearchCV(rf_classifier, param_distributions=parameters,random_state = 42, verbose = 1, cv = 5)\n"
   ]
  },
  {
   "cell_type": "code",
   "execution_count": 122,
   "id": "a132d248",
   "metadata": {},
   "outputs": [
    {
     "name": "stdout",
     "output_type": "stream",
     "text": [
      "Fitting 5 folds for each of 10 candidates, totalling 50 fits\n"
     ]
    },
    {
     "data": {
      "text/plain": [
       "RandomizedSearchCV(cv=5, estimator=RandomForestClassifier(),\n",
       "                   param_distributions={'max_depth': array([ 2,  4,  6,  8, 10, 12, 14, 16]),\n",
       "                                        'n_estimators': [110, 130, 140, 150,\n",
       "                                                         160, 180, 200]},\n",
       "                   random_state=42, verbose=1)"
      ]
     },
     "execution_count": 122,
     "metadata": {},
     "output_type": "execute_result"
    }
   ],
   "source": [
    "rf_classifier_rs.fit(X_train, y_train)"
   ]
  },
  {
   "cell_type": "code",
   "execution_count": 123,
   "id": "e052068a",
   "metadata": {},
   "outputs": [],
   "source": [
    "y_pred = rf_classifier_rs.predict(X_test)"
   ]
  },
  {
   "cell_type": "code",
   "execution_count": 124,
   "id": "d31115dc",
   "metadata": {},
   "outputs": [
    {
     "name": "stdout",
     "output_type": "stream",
     "text": [
      "Accuracy using Random forest :  0.8108695652173913\n"
     ]
    }
   ],
   "source": [
    "rf_accuracy = accuracy_score(y_true=y_test, y_pred=y_pred)\n",
    "print(\"Accuracy using Random forest : \", rf_accuracy)"
   ]
  },
  {
   "cell_type": "code",
   "execution_count": 125,
   "id": "c24cddc1",
   "metadata": {},
   "outputs": [
    {
     "data": {
      "text/plain": [
       "array([[ 553,  355],\n",
       "       [  80, 1312]], dtype=int64)"
      ]
     },
     "execution_count": 125,
     "metadata": {},
     "output_type": "execute_result"
    }
   ],
   "source": [
    "cm = confusion_matrix(y_test.values, y_pred)\n",
    "cm"
   ]
  },
  {
   "cell_type": "markdown",
   "id": "af43658f",
   "metadata": {},
   "source": [
    "### Compare the model's performance"
   ]
  },
  {
   "cell_type": "code",
   "execution_count": 126,
   "id": "aa68a799",
   "metadata": {},
   "outputs": [],
   "source": [
    "model_results = {\n",
    "    'LR': lr_accuracy,\n",
    "    'SVM': svm_accuracy,\n",
    "    'DT': dt_accuracy,\n",
    "    'RF': rf_accuracy\n",
    "}"
   ]
  },
  {
   "cell_type": "code",
   "execution_count": 127,
   "id": "7d830be1",
   "metadata": {},
   "outputs": [
    {
     "data": {
      "image/png": "[encoded data removed]",
      "text/plain": [
       "<Figure size 640x480 with 1 Axes>"
      ]
     },
     "metadata": {},
     "output_type": "display_data"
    }
   ],
   "source": [
    "plt.bar(range(len(model_results)), model_results.values(), align='center')\n",
    "plt.xticks(range(len(model_results)), list(model_results.keys()))\n",
    "plt.ylabel(\"Model Accuracy\")\n",
    "plt.xlabel(\"Model\")\n",
    "plt.show()"
   ]
  },
  {
   "cell_type": "code",
   "execution_count": null,
   "id": "bea55d69",
   "metadata": {},
   "outputs": [],
   "source": []
  }
 ],
 "metadata": {
  "kernelspec": {
   "display_name": "Python 3 (ipykernel)",
   "language": "python",
   "name": "python3"
  },
  "language_info": {
   "codemirror_mode": {
    "name": "ipython",
    "version": 3
   },
   "file_extension": ".py",
   "mimetype": "text/x-python",
   "name": "python",
   "nbconvert_exporter": "python",
   "pygments_lexer": "ipython3",
   "version": "3.9.13"
  }
 },
 "nbformat": 4,
 "nbformat_minor": 5
}
